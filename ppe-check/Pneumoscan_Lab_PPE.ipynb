{
  "nbformat": 4,
  "nbformat_minor": 0,
  "metadata": {
    "colab": {
      "name": "Pneumoscan-Lab_PPE.ipynb",
      "provenance": [],
      "authorship_tag": "ABX9TyNdcl7JstHLBVCI4HzFFmec",
      "include_colab_link": true
    },
    "kernelspec": {
      "name": "python3",
      "display_name": "Python 3"
    }
  },
  "cells": [
    {
      "cell_type": "markdown",
      "metadata": {
        "id": "view-in-github",
        "colab_type": "text"
      },
      "source": [
        "<a href=\"https://colab.research.google.com/github/Mohitg06/pneumoscan-Lab-PPE/blob/master/Pneumoscan_Lab_PPE.ipynb\" target=\"_parent\"><img src=\"https://colab.research.google.com/assets/colab-badge.svg\" alt=\"Open In Colab\"/></a>"
      ]
    },
    {
      "cell_type": "markdown",
      "metadata": {
        "id": "wpbEL1D19ZQy",
        "colab_type": "text"
      },
      "source": [
        "Initializing a model using AWS SageMaker Python API"
      ]
    },
    {
      "cell_type": "code",
      "metadata": {
        "id": "xBxm2Ipn9b8u",
        "colab_type": "code",
        "colab": {}
      },
      "source": [
        "import json \n",
        "from sagemaker import ModelPackage\n",
        "import sagemaker as sage\n",
        "from sagemaker import get_execution_role\n",
        "from sagemaker import ModelPackage\n",
        "import boto3\n",
        "from IPython.display import Image\n",
        "import matplotlib.pyplot as plt\n",
        "import cv2\n",
        "import numpy as np\n",
        "sess = sage.Session()\n",
        "role = get_execution_role()\n",
        "region=sess.boto_region_name"
      ],
      "execution_count": 0,
      "outputs": []
    },
    {
      "cell_type": "code",
      "metadata": {
        "id": "YZfPeoJA9gjw",
        "colab_type": "code",
        "colab": {}
      },
      "source": [
        "from utils import get_model_package_arn\n",
        "\n",
        "model_package_arn = get_model_package_arn(sess.boto_region_name)\n",
        "\n",
        "model = sage.ModelPackage(\n",
        "    role=role,\n",
        "    model_package_arn=model_package_arn)"
      ],
      "execution_count": 0,
      "outputs": []
    },
    {
      "cell_type": "markdown",
      "metadata": {
        "id": "XbX12RLR9kWp",
        "colab_type": "text"
      },
      "source": [
        "2. Generating Prediction using RealTimePredictor\n",
        "Creating a new endpoint"
      ]
    },
    {
      "cell_type": "code",
      "metadata": {
        "id": "G_hcN_6v9ojk",
        "colab_type": "code",
        "colab": {}
      },
      "source": [
        "endpoint_name='ppe-lab-model-endpoint'\n",
        "\n",
        "model.deploy(initial_instance_count=1, instance_type='ml.m4.2xlarge', endpoint_name=endpoint_name)"
      ],
      "execution_count": 0,
      "outputs": []
    },
    {
      "cell_type": "code",
      "metadata": {
        "id": "-uMBA9hg9tO6",
        "colab_type": "code",
        "colab": {}
      },
      "source": [
        "#Define a generic image predictor wrapper which accepts endpoint & session object, and returns a predictor wrapper\n",
        "def image_predict_wrapper(endpoint, session):\n",
        "    return sage.RealTimePredictor(endpoint, session,content_type='image/jpeg')"
      ],
      "execution_count": 0,
      "outputs": []
    },
    {
      "cell_type": "markdown",
      "metadata": {
        "id": "tV53xHpW_CSr",
        "colab_type": "text"
      },
      "source": [
        "#### Generating predictions"
      ]
    },
    {
      "cell_type": "code",
      "metadata": {
        "id": "HQuRZNRD_LjC",
        "colab_type": "code",
        "colab": {}
      },
      "source": [
        "predictor = sage.predictor.RealTimePredictor(\n",
        "    endpoint_name,\n",
        "    sagemaker_session=sess, \n",
        "    content_type=\"image/jpeg\"\n",
        ")"
      ],
      "execution_count": 0,
      "outputs": []
    },
    {
      "cell_type": "code",
      "metadata": {
        "id": "R4CSCZ5H_MZ3",
        "colab_type": "code",
        "colab": {}
      },
      "source": [
        "with os.scandir('data/input/') as entries:\n",
        "    for entry in entries:\n",
        "        with open(entry, 'rb') as image:\n",
        "            f = image.read()\n",
        "            image_bytes = bytearray(f)       \n",
        "        prediction_result_image = predictor.predict(image_bytes).decode(\"utf-8\")"
      ],
      "execution_count": 0,
      "outputs": []
    },
    {
      "cell_type": "code",
      "metadata": {
        "id": "WZmXBdi__R-O",
        "colab_type": "code",
        "colab": {}
      },
      "source": [
        "import json\n",
        "\n",
        "result_image = json.loads(prediction_result)\n",
        "result_image"
      ],
      "execution_count": 0,
      "outputs": []
    },
    {
      "cell_type": "markdown",
      "metadata": {
        "id": "IfTA_TgJ_eo2",
        "colab_type": "text"
      },
      "source": [
        "Analyze Video"
      ]
    },
    {
      "cell_type": "code",
      "metadata": {
        "id": "G8Xeu7Jo_okR",
        "colab_type": "code",
        "colab": {}
      },
      "source": [
        "from IPython.display import HTML\n",
        "video_path='./video/video.mp4'\n",
        "\n",
        "HTML('<iframe width=\"560\" height=\"315\" src=\"'+video_path+'?rel=0&amp;controls=0&amp;showinfo=0\" frameborder=\"0\" allowfullscreen></iframe>')"
      ],
      "execution_count": 0,
      "outputs": []
    },
    {
      "cell_type": "code",
      "metadata": {
        "id": "e5JNCC35_tDf",
        "colab_type": "code",
        "colab": {}
      },
      "source": [
        "capture = cv2.VideoCapture(video_path) \n",
        "\n",
        "#Get number of frames from the video.\n",
        "framecount = int(capture.get(cv2.CAP_PROP_FRAME_COUNT))\n",
        "\n",
        "#Take snapshot every 3 second(s)\n",
        "num_seconds = 3\n",
        "\n",
        "skip_frames=capture.get(cv2.CAP_PROP_FPS)*num_seconds\n",
        "\n",
        "num_snapshots=int(framecount/skip_frames)\n",
        "\n",
        "#bucket = sess.boto_session.resource('s3').Bucket(sess.default_bucket())\n",
        "\n",
        "#For this experiment, we extract an image every second so that we can utilize the endpoints more efficiently.\n",
        "for i in range(num_snapshots):\n",
        "    flag, frame = capture.read()\n",
        "    if flag:\n",
        "        path = './video/snapshots/snapshot' + str(i) + '.jpg'\n",
        "        print ('Creating snapshot on path - ' + path) \n",
        "        cv2.imwrite(path, frame) \n",
        "        capture.set(cv2.CAP_PROP_POS_FRAMES, ((i+1)*skip_frames))\n",
        "capture.release()"
      ],
      "execution_count": 0,
      "outputs": []
    },
    {
      "cell_type": "code",
      "metadata": {
        "id": "3-tKz1tkuKdF",
        "colab_type": "code",
        "colab": {}
      },
      "source": [
        "with os.scandir('video/snapshots/') as entries:\n",
        "    for entry in entries:\n",
        "        with open(entry, 'rb') as image:\n",
        "            f = image.read()\n",
        "            image_bytes = bytearray(f)\n",
        "        prediction_result = predictor.predict(image_bytes).decode(\"utf-8\")\n",
        "   \n",
        "    \n",
        "\n"
      ],
      "execution_count": 0,
      "outputs": []
    },
    {
      "cell_type": "code",
      "metadata": {
        "id": "A2L0Hs0zGtwp",
        "colab_type": "code",
        "colab": {}
      },
      "source": [
        "import json\n",
        "\n",
        "result_video_frame = json.loads(prediction_result_frame)\n",
        "result_video_frame"
      ],
      "execution_count": 0,
      "outputs": []
    },
    {
      "cell_type": "code",
      "metadata": {
        "id": "uLGdtssOG9Vi",
        "colab_type": "code",
        "colab": {}
      },
      "source": [
        "sess.delete_endpoint(predictor.endpoint)"
      ],
      "execution_count": 0,
      "outputs": []
    }
  ]
}